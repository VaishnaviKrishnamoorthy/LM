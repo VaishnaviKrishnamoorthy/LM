{
 "cells": [
  {
   "cell_type": "code",
   "execution_count": 27,
   "metadata": {},
   "outputs": [],
   "source": [
    "import pandas as pd\n",
    "import numpy as np\n",
    "import matplotlib.pyplot as plt"
   ]
  },
  {
   "cell_type": "code",
   "execution_count": 28,
   "metadata": {},
   "outputs": [],
   "source": [
    "df = pd.read_csv(\"training-set.csv\")"
   ]
  },
  {
   "cell_type": "code",
   "execution_count": 29,
   "metadata": {},
   "outputs": [],
   "source": [
    "df = df.drop_duplicates()"
   ]
  },
  {
   "cell_type": "code",
   "execution_count": 30,
   "metadata": {},
   "outputs": [],
   "source": [
    "df['inst_type'] = df['inst_type'].map({'bank':1, 'nbfc':0})\n",
    "df['program'] = df['program'].map({'gross profit':2, 'gross margin':1, 'gst':0})"
   ]
  },
  {
   "cell_type": "code",
   "execution_count": 31,
   "metadata": {},
   "outputs": [],
   "source": [
    "df['roi'] = df['roi'].astype(\"int\")\n",
    "df['cost_of_goods'] = df['cost_of_goods'].astype(\"int\")\n",
    "df['depriciation'] = df['depriciation'].astype(\"int\")\n",
    "df['interest_on_loans'] = df['interest_on_loans'].astype(\"int\")\n",
    "df['sales'] = df['sales'].astype(\"int\")\n",
    "df['other_income_and_interest'] = df['other_income_and_interest'].astype(\"int\")\n",
    "df['net_profit_before_tax'] = df['net_profit_before_tax'].astype(\"int\")\n",
    "df['cash_profit'] = df['cash_profit'].astype(\"int\")\n",
    "df['gross_profit'] = df['gross_profit'].astype(\"int\")\n",
    "df['se_on_cash_profit'] = df['se_on_cash_profit'].astype(\"int\")\n",
    "df['se_on_gross_profit'] = df['se_on_gross_profit'].astype(\"int\")\n",
    "df['se_on_gross_margin'] = df['se_on_gross_margin'].astype(\"int\")"
   ]
  },
  {
   "cell_type": "code",
   "execution_count": 32,
   "metadata": {},
   "outputs": [],
   "source": [
    "X = df[['inst_type', 'program', 'ltv', 'foir', 'min_loan_amount',\n",
    "       'max_loan_amount', 'min_tenure', 'max_tenure', 'min_credit_score',\n",
    "       'roi', 'industry_margin', 'credit_score', 'expected_loan_amount',\n",
    "       'tenure', 'sales', 'cost_of_goods', 'depriciation', 'interest_on_loans',\n",
    "       'director_remuneration_partner_remuneration', 'rental',\n",
    "       'other_income_and_interest', 'obligation', 'net_profit_before_tax',\n",
    "       'last_12_months_turnover', 'cash_profit', 'gross_profit',\n",
    "       'se_on_cash_profit', 'se_on_gross_profit', 'se_on_gross_margin',\n",
    "       'property_value']].values\n",
    "y = df['result'].values"
   ]
  },
  {
   "cell_type": "code",
   "execution_count": 33,
   "metadata": {},
   "outputs": [],
   "source": [
    "from sklearn.model_selection import train_test_split\n",
    "X_train, X_test, y_train, y_test = train_test_split(X, y, test_size=0.2, random_state=0)"
   ]
  },
  {
   "cell_type": "code",
   "execution_count": 34,
   "metadata": {},
   "outputs": [],
   "source": [
    "from sklearn.preprocessing import StandardScaler  \n",
    "scaler = StandardScaler() \n",
    "scaler.fit(X_train,y_train) \n",
    "X_train_scaled = scaler.transform(X_train) \n",
    "X_test_scaled = scaler.transform(X_test)"
   ]
  },
  {
   "cell_type": "code",
   "execution_count": 35,
   "metadata": {},
   "outputs": [
    {
     "data": {
      "text/plain": [
       "LinearRegression()"
      ]
     },
     "execution_count": 35,
     "metadata": {},
     "output_type": "execute_result"
    }
   ],
   "source": [
    "from sklearn.linear_model import LinearRegression\n",
    "regressor = LinearRegression()\n",
    "regressor.fit(X_train_scaled, y_train)"
   ]
  },
  {
   "cell_type": "code",
   "execution_count": 36,
   "metadata": {},
   "outputs": [
    {
     "name": "stdout",
     "output_type": "stream",
     "text": [
      "R2 Value: 0.5607937266166396\n"
     ]
    }
   ],
   "source": [
    "from sklearn.metrics import  r2_score\n",
    "y_pred = regressor.predict(X_test_scaled)\n",
    "rsquared = r2_score(y_test,y_pred)\n",
    "print(\"R2 Value: {}\".format(rsquared))"
   ]
  },
  {
   "cell_type": "code",
   "execution_count": 37,
   "metadata": {},
   "outputs": [
    {
     "name": "stdout",
     "output_type": "stream",
     "text": [
      "K value  :  1 train_score; 0.999999999642617  score :  0.5237173243179106\n",
      "K value  :  2 train_score; 0.9059960272114916  score :  0.4339826170086926\n",
      "K value  :  3 train_score; 0.8080949526336909  score :  0.5928215569578855\n",
      "K value  :  4 train_score; 0.7956180647509913  score :  0.5655356977220729\n",
      "K value  :  5 train_score; 0.7913786493189221  score :  0.4283958165817892\n",
      "K value  :  6 train_score; 0.7531376159647162  score :  0.46682909659432853\n",
      "K value  :  7 train_score; 0.7265359893616503  score :  0.42364876591952283\n",
      "K value  :  8 train_score; 0.6512097503757045  score :  0.44029373765476726\n",
      "K value  :  9 train_score; 0.6381072906226174  score :  0.4409725280624343\n",
      "K value  :  10 train_score; 0.6313374943463397  score :  0.4120815455535243\n",
      "K value  :  20 train_score; 0.42942698954074865  score :  0.2892533628766695\n",
      "K value  :  50 train_score; 0.2622343815137129  score :  0.26572060317960033\n"
     ]
    }
   ],
   "source": [
    "from sklearn.neighbors import KNeighborsClassifier, KNeighborsRegressor\n",
    "from sklearn.linear_model import LogisticRegression\n",
    "from sklearn.model_selection import cross_val_score \n",
    "for i in [1,2,3,4,5,6,7,8,9,10,20,50]: \n",
    "  knn = KNeighborsRegressor(i) \n",
    "  knn.fit(X_train_scaled,y_train) \n",
    "  print(\"K value  : \" , i,\"train_score;\",knn.score(X_train_scaled,y_train), \" score : \", np.mean(cross_val_score(knn, X_train_scaled, y_train, cv=10)))"
   ]
  },
  {
   "cell_type": "code",
   "execution_count": 38,
   "metadata": {},
   "outputs": [],
   "source": [
    "from sklearn.neighbors import KNeighborsRegressor\n",
    "knn=KNeighborsRegressor(3)\n",
    "knn.fit(X_train_scaled,y_train)\n",
    "y_pred = knn.score(X_test_scaled,y_test)"
   ]
  },
  {
   "cell_type": "code",
   "execution_count": 39,
   "metadata": {},
   "outputs": [
    {
     "name": "stdout",
     "output_type": "stream",
     "text": [
      "R2 Value: 0.5951508970186576\n"
     ]
    }
   ],
   "source": [
    "from sklearn.metrics import  r2_score\n",
    "y_pred = knn.predict(X_test_scaled)\n",
    "rsquared = r2_score(y_test,y_pred)\n",
    "print(\"R2 Value: {}\".format(rsquared))"
   ]
  },
  {
   "cell_type": "code",
   "execution_count": 40,
   "metadata": {},
   "outputs": [
    {
     "name": "stdout",
     "output_type": "stream",
     "text": [
      "depth : 1 train_R2 : 0.3052652189807046 val scaore : 0.21261322940122876\n",
      "depth : 2 train_R2 : 0.4286193872472296 val scaore : 0.10135392548627545\n",
      "depth : 3 train_R2 : 0.6131442985589877 val scaore : 0.30003445439391363\n",
      "depth : 4 train_R2 : 0.8441925726236589 val scaore : 0.7185562511750736\n",
      "depth : 5 train_R2 : 0.9877336138399018 val scaore : 0.8323969292203233\n",
      "depth : 6 train_R2 : 0.9910425467329151 val scaore : 0.8700855858649639\n",
      "depth : 7 train_R2 : 0.9952040882519637 val scaore : 0.878686025871178\n",
      "depth : 8 train_R2 : 0.9991731138454821 val scaore : 0.881362425378855\n",
      "depth : 9 train_R2 : 0.999995349416685 val scaore : 0.8797225525635037\n",
      "depth : 10 train_R2 : 0.999999999642617 val scaore : 0.8856461477682146\n",
      "depth : 20 train_R2 : 0.999999999642617 val scaore : 0.879706705254703\n"
     ]
    }
   ],
   "source": [
    "from sklearn.model_selection import cross_val_score\n",
    "from sklearn.metrics import make_scorer\n",
    "from sklearn.tree import DecisionTreeRegressor\n",
    "import numpy as np\n",
    "from sklearn.metrics import r2_score\n",
    "for depth in [1,2,3,4,5,6,7,8,9,10,20]:\n",
    "  dt = DecisionTreeRegressor(max_depth=depth) \n",
    "  dt.fit(X_train, y_train) \n",
    "  trainAccuracy = r2_score(y_train, dt.predict(X_train)) \n",
    "  dt = DecisionTreeRegressor(max_depth=depth) \n",
    "  valAccuracy = cross_val_score(dt, X_train, y_train, cv=10, scoring = make_scorer(r2_score)) \n",
    "  print(\"depth :\",depth, \"train_R2 :\",trainAccuracy, \"val scaore :\" ,np.mean(valAccuracy))"
   ]
  },
  {
   "cell_type": "code",
   "execution_count": 41,
   "metadata": {},
   "outputs": [
    {
     "data": {
      "text/plain": [
       "DecisionTreeRegressor(max_depth=10)"
      ]
     },
     "execution_count": 41,
     "metadata": {},
     "output_type": "execute_result"
    }
   ],
   "source": [
    "from sklearn.metrics import accuracy_score, roc_auc_score, plot_roc_curve\n",
    "from sklearn.model_selection import cross_val_score\n",
    "from sklearn.tree import DecisionTreeClassifier\n",
    "from sklearn.tree import DecisionTreeRegressor\n",
    "import numpy as np\n",
    "from sklearn.tree import DecisionTreeRegressor\n",
    "dt = DecisionTreeRegressor(max_depth = 10)\n",
    "dt.fit(X_train, y_train)"
   ]
  },
  {
   "cell_type": "code",
   "execution_count": 42,
   "metadata": {},
   "outputs": [
    {
     "name": "stdout",
     "output_type": "stream",
     "text": [
      "R2 Value: 0.8712161171934667\n"
     ]
    }
   ],
   "source": [
    "from sklearn.metrics import  r2_score\n",
    "y_pred = dt.predict(X_test)\n",
    "rsquared = r2_score(y_test,y_pred)\n",
    "print(\"R2 Value: {}\".format(rsquared))"
   ]
  },
  {
   "cell_type": "code",
   "execution_count": 43,
   "metadata": {},
   "outputs": [],
   "source": [
    "from sklearn.ensemble import RandomForestRegressor\n",
    "from sklearn.metrics import r2_score\n",
    "rf = RandomForestRegressor(n_estimators= 100, max_depth = 5, max_features='sqrt')\n",
    "rf.fit(X_train_scaled, y_train)\n",
    "y_pred = rf.predict(X_test_scaled)"
   ]
  },
  {
   "cell_type": "code",
   "execution_count": 44,
   "metadata": {},
   "outputs": [
    {
     "name": "stdout",
     "output_type": "stream",
     "text": [
      "R2 Value: 0.8150451405520441\n"
     ]
    }
   ],
   "source": [
    "from sklearn.metrics import  r2_score\n",
    "y_pred = rf.predict(X_test_scaled)\n",
    "rsquared = r2_score(y_test,y_pred)\n",
    "print(\"R2 Value: {}\".format(rsquared))"
   ]
  },
  {
   "cell_type": "code",
   "execution_count": 53,
   "metadata": {},
   "outputs": [
    {
     "name": "stdout",
     "output_type": "stream",
     "text": [
      "Learning rate :  0.01  Train score :  0.7952859734492623  Cross-Val score :  0.7347003919981431\n",
      "Learning rate :  0.02  Train score :  0.9576270112274949  Cross-Val score :  0.8448047882037285\n",
      "Learning rate :  0.03  Train score :  0.9868988017656848  Cross-Val score :  0.8410373015225584\n",
      "Learning rate :  0.04  Train score :  0.9930525820844314  Cross-Val score :  0.8327795000286768\n",
      "Learning rate :  0.05  Train score :  0.9955116297737859  Cross-Val score :  0.8319348842508958\n",
      "Learning rate :  0.06  Train score :  0.9991445043102911  Cross-Val score :  0.8223216751710893\n",
      "Learning rate :  0.07  Train score :  0.9994435025931326  Cross-Val score :  0.8296396544690786\n",
      "Learning rate :  0.08  Train score :  0.9996516118139191  Cross-Val score :  0.8238715296489051\n",
      "Learning rate :  0.09  Train score :  0.9999538557867642  Cross-Val score :  0.8260969474595108\n",
      "Learning rate :  0.1  Train score :  0.9999593608347491  Cross-Val score :  0.8265655510721228\n",
      "Learning rate :  0.11  Train score :  0.9999569001171922  Cross-Val score :  0.8321439981032691\n",
      "Learning rate :  0.12  Train score :  0.9999716341323457  Cross-Val score :  0.8267858979729654\n",
      "Learning rate :  0.13  Train score :  0.9999941071241502  Cross-Val score :  0.8276027462558652\n",
      "Learning rate :  0.14  Train score :  0.9999964418319103  Cross-Val score :  0.8256278949596381\n",
      "Learning rate :  0.15  Train score :  0.9999956058362629  Cross-Val score :  0.8295601213847353\n",
      "Learning rate :  0.2  Train score :  0.9999997807120243  Cross-Val score :  0.8530628389776078\n",
      "Learning rate :  0.5  Train score :  0.9999999989085212  Cross-Val score :  0.9133221776943209\n",
      "Learning rate :  0.7  Train score :  0.9999999995125443  Cross-Val score :  0.9139704249041349\n",
      "Learning rate :  1  Train score :  0.9999999996421306  Cross-Val score :  0.9051220372875918\n"
     ]
    }
   ],
   "source": [
    "import xgboost as xgb\n",
    "from sklearn.model_selection import cross_val_score\n",
    "import numpy as np\n",
    "for lr in [0.01,0.02,0.03,0.04,0.05,0.06,0.07,0.08,0.09,0.1,0.11,0.12,0.13,0.14,0.15,0.2,0.5,0.7,1]:\n",
    "  model = xgb.XGBRegressor(learning_rate = lr, n_estimators=100, verbosity = 0) \n",
    "  model.fit(X_train,y_train) \n",
    "  model.score(X_test, y_test) \n",
    "  print(\"Learning rate : \", lr, \" Train score : \", model.score(X_train,y_train), \" Cross-Val score : \", np.mean(cross_val_score(model, X_train, y_train, cv=10)))"
   ]
  },
  {
   "cell_type": "code",
   "execution_count": 57,
   "metadata": {},
   "outputs": [
    {
     "data": {
      "text/plain": [
       "0.7825626488107925"
      ]
     },
     "execution_count": 57,
     "metadata": {},
     "output_type": "execute_result"
    }
   ],
   "source": [
    "model = xgb.XGBRegressor(learning_rate = 0.5, n_estimators=100)\n",
    "model.fit(X_train,y_train) \n",
    "model.score(X_test, y_test)"
   ]
  },
  {
   "cell_type": "code",
   "execution_count": 55,
   "metadata": {},
   "outputs": [
    {
     "name": "stdout",
     "output_type": "stream",
     "text": [
      "R2 Value: 0.7825626488107925\n"
     ]
    }
   ],
   "source": [
    "from sklearn.metrics import  r2_score\n",
    "y_pred = model.predict(X_test)\n",
    "rsquared = r2_score(y_test,y_pred)\n",
    "print(\"R2 Value: {}\".format(rsquared))"
   ]
  },
  {
   "cell_type": "code",
   "execution_count": 48,
   "metadata": {},
   "outputs": [
    {
     "name": "stdout",
     "output_type": "stream",
     "text": [
      "R2 Value for Linear Regression: 0.5607937266166396\n",
      "R2 Value for KNN Regression: 0.5951508970186576\n",
      "R2 Value for DecisionTreeRegressor: 0.8712161171934667\n",
      "R2 Value for RandomForestRegressor: 0.8150451405520441\n",
      "R2 Value for XGBooster: 0.7880959980871786\n"
     ]
    }
   ],
   "source": [
    "from sklearn.metrics import  r2_score\n",
    "print(\"R2 Value for Linear Regression: {}\".format(r2_score(y_test,regressor.predict(X_test_scaled))))\n",
    "print(\"R2 Value for KNN Regression: {}\".format(r2_score(y_test,knn.predict(X_test_scaled))))\n",
    "print(\"R2 Value for DecisionTreeRegressor: {}\".format(r2_score(y_test,dt.predict(X_test))))\n",
    "print(\"R2 Value for RandomForestRegressor: {}\".format(r2_score(y_test,rf.predict(X_test_scaled))))\n",
    "print(\"R2 Value for XGBooster: {}\".format(r2_score(y_test,model.predict(X_test))))"
   ]
  },
  {
   "cell_type": "code",
   "execution_count": 49,
   "metadata": {},
   "outputs": [],
   "source": [
    "import pickle\n",
    "filename = \"loan_match\"\n",
    "pickle.dump(dt,open(filename,'wb'))"
   ]
  },
  {
   "cell_type": "code",
   "execution_count": 50,
   "metadata": {},
   "outputs": [
    {
     "data": {
      "text/plain": [
       "array([6819253.])"
      ]
     },
     "execution_count": 50,
     "metadata": {},
     "output_type": "execute_result"
    }
   ],
   "source": [
    "loaded_model = pickle.load(open(filename,'rb'))\n",
    "pred_result = loaded_model.predict([[1,2,75,60,10000000,250000000,60,180,750,8.5,5,780,12500000,180,\n",
    "213197092,154306057,15784,490202,0,0,688141,490202,0,277156219,1194127,5764941,-420544.59,534227.23,1006311.31,150000000]])\n",
    "pred_result                                    "
   ]
  }
 ],
 "metadata": {
  "kernelspec": {
   "display_name": "base",
   "language": "python",
   "name": "python3"
  },
  "language_info": {
   "codemirror_mode": {
    "name": "ipython",
    "version": 3
   },
   "file_extension": ".py",
   "mimetype": "text/x-python",
   "name": "python",
   "nbconvert_exporter": "python",
   "pygments_lexer": "ipython3",
   "version": "3.9.15 (main, Nov 23 2022, 09:27:34) [MSC v.1916 64 bit (AMD64)]"
  },
  "orig_nbformat": 4,
  "vscode": {
   "interpreter": {
    "hash": "8e488a14b9a2fa3e242edeb4f698eb6a19198fa902215ebe7df2f983cb5037e8"
   }
  }
 },
 "nbformat": 4,
 "nbformat_minor": 2
}
